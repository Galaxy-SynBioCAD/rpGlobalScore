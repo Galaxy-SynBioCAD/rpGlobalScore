{
 "cells": [
  {
   "cell_type": "code",
   "execution_count": 1,
   "metadata": {},
   "outputs": [],
   "source": [
    "import libsbml\n",
    "import argparse\n",
    "import os\n",
    "import io\n",
    "import tarfile\n",
    "import glob\n",
    "import tempfile\n",
    "import shutil\n",
    "\n",
    "import sys\n",
    "\n",
    "import rpSBML\n",
    "import rpTool\n",
    "import rpToolServe\n",
    "import json\n",
    "import numpy as np\n",
    "from scipy.optimize import minimize\n",
    "\n",
    "import rbo"
   ]
  },
  {
   "cell_type": "code",
   "execution_count": 4,
   "metadata": {},
   "outputs": [],
   "source": [
    "import logging\n",
    "logger = logging.getLogger()\n",
    "logger.setLevel(logging.CRITICAL)"
   ]
  },
  {
   "cell_type": "code",
   "execution_count": 5,
   "metadata": {},
   "outputs": [],
   "source": [
    "with open('match_scores.json', 'r') as fp:\n",
    "    match_scores = json.load(fp)"
   ]
  },
  {
   "cell_type": "code",
   "execution_count": 6,
   "metadata": {},
   "outputs": [
    {
     "data": {
      "text/plain": [
       "{'measured_64': {'rp_9_2': {'reac_score': 0.05, 'ec_score': 0.75},\n",
       "  'rp_9_1': {'reac_score': 0.05, 'ec_score': 0.75}},\n",
       " 'measured_53': {'rp_3_1': {'reac_score': 0.9, 'ec_score': 1.0}},\n",
       " 'measured_52': {'rp_1_2': {'reac_score': 0.2, 'ec_score': 1.0},\n",
       "  'rp_1_1': {'reac_score': 0.2, 'ec_score': 1.0}},\n",
       " 'measured_33': {'rp_2_15': {'reac_score': 0.1, 'ec_score': 0.0},\n",
       "  'rp_2_24': {'reac_score': 0.1, 'ec_score': 0.0},\n",
       "  'rp_2_4': {'reac_score': 0.1, 'ec_score': 0.0},\n",
       "  'rp_2_3': {'reac_score': 0.1, 'ec_score': 0.0},\n",
       "  'rp_2_8': {'reac_score': 0.1, 'ec_score': 0.0},\n",
       "  'rp_2_19': {'reac_score': 0.1, 'ec_score': 0.0},\n",
       "  'rp_2_13': {'reac_score': 0.1, 'ec_score': 0.0},\n",
       "  'rp_2_21': {'reac_score': 0.1, 'ec_score': 0.0},\n",
       "  'rp_2_5': {'reac_score': 0.1, 'ec_score': 0.0},\n",
       "  'rp_2_25': {'reac_score': 0.1, 'ec_score': 0.0},\n",
       "  'rp_2_12': {'reac_score': 0.1, 'ec_score': 0.0},\n",
       "  'rp_2_6': {'reac_score': 0.1, 'ec_score': 0.0},\n",
       "  'rp_2_7': {'reac_score': 0.1, 'ec_score': 0.0},\n",
       "  'rp_2_14': {'reac_score': 0.1, 'ec_score': 0.0},\n",
       "  'rp_2_2': {'reac_score': 0.1, 'ec_score': 0.0},\n",
       "  'rp_2_10': {'reac_score': 0.1, 'ec_score': 0.0},\n",
       "  'rp_2_9': {'reac_score': 0.1, 'ec_score': 0.0},\n",
       "  'rp_2_22': {'reac_score': 0.1, 'ec_score': 0.0},\n",
       "  'rp_2_18': {'reac_score': 0.1, 'ec_score': 0.0},\n",
       "  'rp_2_23': {'reac_score': 0.1, 'ec_score': 0.0},\n",
       "  'rp_2_17': {'reac_score': 0.1, 'ec_score': 0.0},\n",
       "  'rp_2_16': {'reac_score': 0.1, 'ec_score': 0.0},\n",
       "  'rp_2_20': {'reac_score': 0.1, 'ec_score': 0.0},\n",
       "  'rp_2_1': {'reac_score': 0.1, 'ec_score': 0.0},\n",
       "  'rp_2_11': {'reac_score': 0.1, 'ec_score': 0.0}},\n",
       " 'measured_41': {'rp_1_2': {'reac_score': 0.2, 'ec_score': 1.0},\n",
       "  'rp_1_1': {'reac_score': 0.2, 'ec_score': 1.0}},\n",
       " 'measured_30': {'rp_3_1': {'reac_score': 0.1, 'ec_score': 0.25}},\n",
       " 'measured_63': {'rp_2_1': {'reac_score': 0.06666666666666667,\n",
       "   'ec_score': 1.0}},\n",
       " 'measured_61': {'rp_86_1': {'reac_score': 0.04, 'ec_score': 0.5},\n",
       "  'rp_86_3': {'reac_score': 0.04, 'ec_score': 0.5},\n",
       "  'rp_87_1': {'reac_score': 0.04, 'ec_score': 0.5},\n",
       "  'rp_88_2': {'reac_score': 0.04, 'ec_score': 0.5},\n",
       "  'rp_86_2': {'reac_score': 0.04, 'ec_score': 0.5},\n",
       "  'rp_85_1': {'reac_score': 0.04, 'ec_score': 0.5},\n",
       "  'rp_88_3': {'reac_score': 0.04, 'ec_score': 0.5},\n",
       "  'rp_88_1': {'reac_score': 0.04, 'ec_score': 0.5}},\n",
       " 'measured_75': {'rp_1_2': {'reac_score': 0.26666666666666666,\n",
       "   'ec_score': 0.8333333333333334},\n",
       "  'rp_1_1': {'reac_score': 0.39999999999999997,\n",
       "   'ec_score': 0.8333333333333334}},\n",
       " 'measured_71': {'rp_3_1': {'reac_score': 0.0, 'ec_score': 1.0}},\n",
       " 'measured_25': {'rp_5_1': {'reac_score': 0.06666666666666667,\n",
       "   'ec_score': 0.16666666666666666}},\n",
       " 'measured_59': {'rp_2_1': {'reac_score': 0.6, 'ec_score': 0.5}},\n",
       " 'measured_29': {'rp_3_1': {'reac_score': 0.0, 'ec_score': 1.0}},\n",
       " 'measured_72': {'rp_2_1': {'reac_score': 0.06666666666666667,\n",
       "   'ec_score': 1.0},\n",
       "  'rp_1_1': {'reac_score': 0.06666666666666667,\n",
       "   'ec_score': 0.8333333333333334}}}"
      ]
     },
     "execution_count": 6,
     "metadata": {},
     "output_type": "execute_result"
    }
   ],
   "source": [
    "match_scores"
   ]
  },
  {
   "cell_type": "code",
   "execution_count": 7,
   "metadata": {},
   "outputs": [],
   "source": [
    "len_meas_steps = {'measured_2': 9, 'measured_4': 9, 'measured_5': 3, 'measured_6': 4, 'measured_7': 4, 'measured_8': 6, 'measured_9': 4, 'measured_10': 8, 'measured_11': 3, 'measured_13': 4, 'measured_14': 6, 'measured_15': 6, 'measured_17': 4, 'measured_18': 6, 'measured_19': 3, 'measured_20': 3, 'measured_21': 9, 'measured_22': 3, 'measured_23': 2, 'measured_24': 4, 'measured_25': 3, 'measured_26': 6, 'measured_27': 4, 'measured_28': 12, 'measured_29': 2, 'measured_30': 2, 'measured_31': 4, 'measured_32': 3, 'measured_33': 2, 'measured_34': 2, 'measured_35': 4, 'measured_36': 4, 'measured_37': 4, 'measured_38': 4, 'measured_39': 4, 'measured_40': 1, 'measured_41': 1, 'measured_42': 2, 'measured_43': 5, 'measured_44': 6, 'measured_45': 3, 'measured_46': 2, 'measured_47': 4, 'measured_48': 1, 'measured_49': 1, 'measured_50': 1, 'measured_51': 1, 'measured_52': 1, 'measured_53': 2, 'measured_54': 6, 'measured_55': 2, 'measured_56': 2, 'measured_57': 5, 'measured_58': 2, 'measured_59': 2, 'measured_60': 5, 'measured_61': 5, 'measured_62': 3, 'measured_63': 3, 'measured_64': 4, 'measured_65': 4, 'measured_66': 6, 'measured_67': 6, 'measured_68': 3, 'measured_69': 5, 'measured_70': 4, 'measured_71': 2, 'measured_72': 3, 'measured_73': 5, 'measured_74': 4, 'measured_75': 3, 'measured_77': 2, 'measured_78': 2, 'measured_79': 5}"
   ]
  },
  {
   "cell_type": "code",
   "execution_count": 8,
   "metadata": {},
   "outputs": [
    {
     "data": {
      "text/plain": [
       "1"
      ]
     },
     "execution_count": 8,
     "metadata": {},
     "output_type": "execute_result"
    }
   ],
   "source": [
    "len_meas_steps['measured_52']"
   ]
  },
  {
   "cell_type": "code",
   "execution_count": 9,
   "metadata": {},
   "outputs": [],
   "source": [
    "def matchScore(x):\n",
    "    all_rbo_ext = []\n",
    "    for meas in match_scores:\n",
    "        #retreive the file\n",
    "        res_tar = glob.glob('/home/mdulac/workspace/Galaxy-SynBioCAD/rpOptimise/results/'+meas+'/rpSelenzyme.tar.xz')[0]\n",
    "        #compile the list of results\n",
    "        with tempfile.TemporaryDirectory() as tmpOutputFolder:\n",
    "            top_fileNames = rpToolServe.runGlobalScore_hdd(open(res_tar, 'rb'),\n",
    "                                                          tmpOutputFolder+'/tmp.tar.xz',\n",
    "                                                          x[0],\n",
    "                                                          x[1],\n",
    "                                                          x[2],\n",
    "                                                          x[3],\n",
    "                                                          len_meas_steps[meas],\n",
    "                                                          10) #this is the topx to return, don't care about it here\n",
    "            #compile the mean score for the detected pathways\n",
    "            m_s = {}\n",
    "            for i in match_scores[meas]:\n",
    "                m_s[i] = np.mean([match_scores[meas][i]['reac_score'], match_scores[meas][i]['ec_score']])\n",
    "            rbo_res = rbo.rbo_dict(top_fileNames, m_s, p=0.9)\n",
    "            all_rbo_ext.append(rbo_res.ext)\n",
    "            #print('############ '+str(meas)+' ###########')\n",
    "            #print(top_fileNames)\n",
    "            #print(m_s)\n",
    "            #print(rbo_res.ext) #this is the result\n",
    "    print('############################')\n",
    "    print(x)\n",
    "    print(all_rbo_ext)\n",
    "    print('---> '+str(1.0-np.mean(all_rbo_ext)))\n",
    "    return 1.0-np.mean(all_rbo_ext)"
   ]
  },
  {
   "cell_type": "code",
   "execution_count": 10,
   "metadata": {},
   "outputs": [
    {
     "ename": "SystemError",
     "evalue": "<built-in function readSBMLFromFile> returned a result with an error set",
     "output_type": "error",
     "traceback": [
      "\u001b[0;31m---------------------------------------------------------------------------\u001b[0m",
      "\u001b[0;31mKeyboardInterrupt\u001b[0m                         Traceback (most recent call last)",
      "\u001b[0;32m~/anaconda3/envs/py36/lib/python3.6/site-packages/libsbml/__init__.py\u001b[0m in \u001b[0;36m<lambda>\u001b[0;34m(self, name, value)\u001b[0m\n\u001b[1;32m  12994\u001b[0m         \u001b[0m__swig_setmethods__\u001b[0m\u001b[0;34m.\u001b[0m\u001b[0mupdate\u001b[0m\u001b[0;34m(\u001b[0m\u001b[0mgetattr\u001b[0m\u001b[0;34m(\u001b[0m\u001b[0m_s\u001b[0m\u001b[0;34m,\u001b[0m \u001b[0;34m'__swig_setmethods__'\u001b[0m\u001b[0;34m,\u001b[0m \u001b[0;34m{\u001b[0m\u001b[0;34m}\u001b[0m\u001b[0;34m)\u001b[0m\u001b[0;34m)\u001b[0m\u001b[0;34m\u001b[0m\u001b[0;34m\u001b[0m\u001b[0m\n\u001b[0;32m> 12995\u001b[0;31m     \u001b[0m__setattr__\u001b[0m \u001b[0;34m=\u001b[0m \u001b[0;32mlambda\u001b[0m \u001b[0mself\u001b[0m\u001b[0;34m,\u001b[0m \u001b[0mname\u001b[0m\u001b[0;34m,\u001b[0m \u001b[0mvalue\u001b[0m\u001b[0;34m:\u001b[0m \u001b[0m_swig_setattr\u001b[0m\u001b[0;34m(\u001b[0m\u001b[0mself\u001b[0m\u001b[0;34m,\u001b[0m \u001b[0mSBMLDocument\u001b[0m\u001b[0;34m,\u001b[0m \u001b[0mname\u001b[0m\u001b[0;34m,\u001b[0m \u001b[0mvalue\u001b[0m\u001b[0;34m)\u001b[0m\u001b[0;34m\u001b[0m\u001b[0;34m\u001b[0m\u001b[0m\n\u001b[0m\u001b[1;32m  12996\u001b[0m     \u001b[0m__swig_getmethods__\u001b[0m \u001b[0;34m=\u001b[0m \u001b[0;34m{\u001b[0m\u001b[0;34m}\u001b[0m\u001b[0;34m\u001b[0m\u001b[0;34m\u001b[0m\u001b[0m\n",
      "\u001b[0;31mKeyboardInterrupt\u001b[0m: ",
      "\nThe above exception was the direct cause of the following exception:\n",
      "\u001b[0;31mSystemError\u001b[0m                               Traceback (most recent call last)",
      "\u001b[0;32m<ipython-input-10-6be68d3a1267>\u001b[0m in \u001b[0;36m<module>\u001b[0;34m\u001b[0m\n\u001b[1;32m      1\u001b[0m \u001b[0mx0\u001b[0m \u001b[0;34m=\u001b[0m \u001b[0mnp\u001b[0m\u001b[0;34m.\u001b[0m\u001b[0marray\u001b[0m\u001b[0;34m(\u001b[0m\u001b[0;34m[\u001b[0m\u001b[0;36m1.0\u001b[0m\u001b[0;34m,\u001b[0m \u001b[0;36m1.0\u001b[0m\u001b[0;34m,\u001b[0m \u001b[0;36m1.0\u001b[0m\u001b[0;34m,\u001b[0m \u001b[0;36m1.0\u001b[0m\u001b[0;34m]\u001b[0m\u001b[0;34m)\u001b[0m\u001b[0;34m\u001b[0m\u001b[0;34m\u001b[0m\u001b[0m\n\u001b[0;32m----> 2\u001b[0;31m \u001b[0mres\u001b[0m \u001b[0;34m=\u001b[0m \u001b[0mminimize\u001b[0m\u001b[0;34m(\u001b[0m\u001b[0mmatchScore\u001b[0m\u001b[0;34m,\u001b[0m \u001b[0mx0\u001b[0m\u001b[0;34m,\u001b[0m \u001b[0mmethod\u001b[0m\u001b[0;34m=\u001b[0m\u001b[0;34m'nelder-mead'\u001b[0m\u001b[0;34m,\u001b[0m \u001b[0moptions\u001b[0m\u001b[0;34m=\u001b[0m\u001b[0;34m{\u001b[0m\u001b[0;34m'xatol'\u001b[0m\u001b[0;34m:\u001b[0m \u001b[0;36m1e-8\u001b[0m\u001b[0;34m,\u001b[0m \u001b[0;34m'disp'\u001b[0m\u001b[0;34m:\u001b[0m \u001b[0;32mTrue\u001b[0m\u001b[0;34m}\u001b[0m\u001b[0;34m)\u001b[0m\u001b[0;34m\u001b[0m\u001b[0;34m\u001b[0m\u001b[0m\n\u001b[0m",
      "\u001b[0;32m~/anaconda3/envs/py36/lib/python3.6/site-packages/scipy/optimize/_minimize.py\u001b[0m in \u001b[0;36mminimize\u001b[0;34m(fun, x0, args, method, jac, hess, hessp, bounds, constraints, tol, callback, options)\u001b[0m\n\u001b[1;32m    587\u001b[0m                       callback=callback, **options)\n\u001b[1;32m    588\u001b[0m     \u001b[0;32melif\u001b[0m \u001b[0mmeth\u001b[0m \u001b[0;34m==\u001b[0m \u001b[0;34m'nelder-mead'\u001b[0m\u001b[0;34m:\u001b[0m\u001b[0;34m\u001b[0m\u001b[0;34m\u001b[0m\u001b[0m\n\u001b[0;32m--> 589\u001b[0;31m         \u001b[0;32mreturn\u001b[0m \u001b[0m_minimize_neldermead\u001b[0m\u001b[0;34m(\u001b[0m\u001b[0mfun\u001b[0m\u001b[0;34m,\u001b[0m \u001b[0mx0\u001b[0m\u001b[0;34m,\u001b[0m \u001b[0margs\u001b[0m\u001b[0;34m,\u001b[0m \u001b[0mcallback\u001b[0m\u001b[0;34m,\u001b[0m \u001b[0;34m**\u001b[0m\u001b[0moptions\u001b[0m\u001b[0;34m)\u001b[0m\u001b[0;34m\u001b[0m\u001b[0;34m\u001b[0m\u001b[0m\n\u001b[0m\u001b[1;32m    590\u001b[0m     \u001b[0;32melif\u001b[0m \u001b[0mmeth\u001b[0m \u001b[0;34m==\u001b[0m \u001b[0;34m'powell'\u001b[0m\u001b[0;34m:\u001b[0m\u001b[0;34m\u001b[0m\u001b[0;34m\u001b[0m\u001b[0m\n\u001b[1;32m    591\u001b[0m         \u001b[0;32mreturn\u001b[0m \u001b[0m_minimize_powell\u001b[0m\u001b[0;34m(\u001b[0m\u001b[0mfun\u001b[0m\u001b[0;34m,\u001b[0m \u001b[0mx0\u001b[0m\u001b[0;34m,\u001b[0m \u001b[0margs\u001b[0m\u001b[0;34m,\u001b[0m \u001b[0mcallback\u001b[0m\u001b[0;34m,\u001b[0m \u001b[0;34m**\u001b[0m\u001b[0moptions\u001b[0m\u001b[0;34m)\u001b[0m\u001b[0;34m\u001b[0m\u001b[0;34m\u001b[0m\u001b[0m\n",
      "\u001b[0;32m~/anaconda3/envs/py36/lib/python3.6/site-packages/scipy/optimize/optimize.py\u001b[0m in \u001b[0;36m_minimize_neldermead\u001b[0;34m(func, x0, args, callback, maxiter, maxfev, disp, return_all, initial_simplex, xatol, fatol, adaptive, **unknown_options)\u001b[0m\n\u001b[1;32m    615\u001b[0m                     \u001b[0;32mfor\u001b[0m \u001b[0mj\u001b[0m \u001b[0;32min\u001b[0m \u001b[0mone2np1\u001b[0m\u001b[0;34m:\u001b[0m\u001b[0;34m\u001b[0m\u001b[0;34m\u001b[0m\u001b[0m\n\u001b[1;32m    616\u001b[0m                         \u001b[0msim\u001b[0m\u001b[0;34m[\u001b[0m\u001b[0mj\u001b[0m\u001b[0;34m]\u001b[0m \u001b[0;34m=\u001b[0m \u001b[0msim\u001b[0m\u001b[0;34m[\u001b[0m\u001b[0;36m0\u001b[0m\u001b[0;34m]\u001b[0m \u001b[0;34m+\u001b[0m \u001b[0msigma\u001b[0m \u001b[0;34m*\u001b[0m \u001b[0;34m(\u001b[0m\u001b[0msim\u001b[0m\u001b[0;34m[\u001b[0m\u001b[0mj\u001b[0m\u001b[0;34m]\u001b[0m \u001b[0;34m-\u001b[0m \u001b[0msim\u001b[0m\u001b[0;34m[\u001b[0m\u001b[0;36m0\u001b[0m\u001b[0;34m]\u001b[0m\u001b[0;34m)\u001b[0m\u001b[0;34m\u001b[0m\u001b[0;34m\u001b[0m\u001b[0m\n\u001b[0;32m--> 617\u001b[0;31m                         \u001b[0mfsim\u001b[0m\u001b[0;34m[\u001b[0m\u001b[0mj\u001b[0m\u001b[0;34m]\u001b[0m \u001b[0;34m=\u001b[0m \u001b[0mfunc\u001b[0m\u001b[0;34m(\u001b[0m\u001b[0msim\u001b[0m\u001b[0;34m[\u001b[0m\u001b[0mj\u001b[0m\u001b[0;34m]\u001b[0m\u001b[0;34m)\u001b[0m\u001b[0;34m\u001b[0m\u001b[0;34m\u001b[0m\u001b[0m\n\u001b[0m\u001b[1;32m    618\u001b[0m \u001b[0;34m\u001b[0m\u001b[0m\n\u001b[1;32m    619\u001b[0m         \u001b[0mind\u001b[0m \u001b[0;34m=\u001b[0m \u001b[0mnumpy\u001b[0m\u001b[0;34m.\u001b[0m\u001b[0margsort\u001b[0m\u001b[0;34m(\u001b[0m\u001b[0mfsim\u001b[0m\u001b[0;34m)\u001b[0m\u001b[0;34m\u001b[0m\u001b[0;34m\u001b[0m\u001b[0m\n",
      "\u001b[0;32m~/anaconda3/envs/py36/lib/python3.6/site-packages/scipy/optimize/optimize.py\u001b[0m in \u001b[0;36mfunction_wrapper\u001b[0;34m(*wrapper_args)\u001b[0m\n\u001b[1;32m    298\u001b[0m     \u001b[0;32mdef\u001b[0m \u001b[0mfunction_wrapper\u001b[0m\u001b[0;34m(\u001b[0m\u001b[0;34m*\u001b[0m\u001b[0mwrapper_args\u001b[0m\u001b[0;34m)\u001b[0m\u001b[0;34m:\u001b[0m\u001b[0;34m\u001b[0m\u001b[0;34m\u001b[0m\u001b[0m\n\u001b[1;32m    299\u001b[0m         \u001b[0mncalls\u001b[0m\u001b[0;34m[\u001b[0m\u001b[0;36m0\u001b[0m\u001b[0;34m]\u001b[0m \u001b[0;34m+=\u001b[0m \u001b[0;36m1\u001b[0m\u001b[0;34m\u001b[0m\u001b[0;34m\u001b[0m\u001b[0m\n\u001b[0;32m--> 300\u001b[0;31m         \u001b[0;32mreturn\u001b[0m \u001b[0mfunction\u001b[0m\u001b[0;34m(\u001b[0m\u001b[0;34m*\u001b[0m\u001b[0;34m(\u001b[0m\u001b[0mwrapper_args\u001b[0m \u001b[0;34m+\u001b[0m \u001b[0margs\u001b[0m\u001b[0;34m)\u001b[0m\u001b[0;34m)\u001b[0m\u001b[0;34m\u001b[0m\u001b[0;34m\u001b[0m\u001b[0m\n\u001b[0m\u001b[1;32m    301\u001b[0m \u001b[0;34m\u001b[0m\u001b[0m\n\u001b[1;32m    302\u001b[0m     \u001b[0;32mreturn\u001b[0m \u001b[0mncalls\u001b[0m\u001b[0;34m,\u001b[0m \u001b[0mfunction_wrapper\u001b[0m\u001b[0;34m\u001b[0m\u001b[0;34m\u001b[0m\u001b[0m\n",
      "\u001b[0;32m<ipython-input-9-511d8fbd2f7e>\u001b[0m in \u001b[0;36mmatchScore\u001b[0;34m(x)\u001b[0m\n\u001b[1;32m     13\u001b[0m                                                           \u001b[0mx\u001b[0m\u001b[0;34m[\u001b[0m\u001b[0;36m3\u001b[0m\u001b[0;34m]\u001b[0m\u001b[0;34m,\u001b[0m\u001b[0;34m\u001b[0m\u001b[0;34m\u001b[0m\u001b[0m\n\u001b[1;32m     14\u001b[0m                                                           \u001b[0mlen_meas_steps\u001b[0m\u001b[0;34m[\u001b[0m\u001b[0mmeas\u001b[0m\u001b[0;34m]\u001b[0m\u001b[0;34m,\u001b[0m\u001b[0;34m\u001b[0m\u001b[0;34m\u001b[0m\u001b[0m\n\u001b[0;32m---> 15\u001b[0;31m                                                           10) #this is the topx to return, don't care about it here\n\u001b[0m\u001b[1;32m     16\u001b[0m             \u001b[0;31m#compile the mean score for the detected pathways\u001b[0m\u001b[0;34m\u001b[0m\u001b[0;34m\u001b[0m\u001b[0;34m\u001b[0m\u001b[0m\n\u001b[1;32m     17\u001b[0m             \u001b[0mm_s\u001b[0m \u001b[0;34m=\u001b[0m \u001b[0;34m{\u001b[0m\u001b[0;34m}\u001b[0m\u001b[0;34m\u001b[0m\u001b[0;34m\u001b[0m\u001b[0m\n",
      "\u001b[0;32m~/workspace/Galaxy-SynBioCAD/rpGlobalScore/rpGlobalScore_image/rpToolServe.py\u001b[0m in \u001b[0;36mrunGlobalScore_hdd\u001b[0;34m(inputTar, outputTar, weight_rp_steps, weight_selenzyme, weight_fba, weight_thermo, max_rp_steps, topX, thermo_ceil, thermo_floor, fba_ceil, fba_floor, pathway_id, objective_id, thermo_id)\u001b[0m\n\u001b[1;32m     87\u001b[0m                 \u001b[0mfileName\u001b[0m \u001b[0;34m=\u001b[0m \u001b[0msbml_path\u001b[0m\u001b[0;34m.\u001b[0m\u001b[0msplit\u001b[0m\u001b[0;34m(\u001b[0m\u001b[0;34m'/'\u001b[0m\u001b[0;34m)\u001b[0m\u001b[0;34m[\u001b[0m\u001b[0;34m-\u001b[0m\u001b[0;36m1\u001b[0m\u001b[0;34m]\u001b[0m\u001b[0;34m.\u001b[0m\u001b[0mreplace\u001b[0m\u001b[0;34m(\u001b[0m\u001b[0;34m'.sbml'\u001b[0m\u001b[0;34m,\u001b[0m \u001b[0;34m''\u001b[0m\u001b[0;34m)\u001b[0m\u001b[0;34m.\u001b[0m\u001b[0mreplace\u001b[0m\u001b[0;34m(\u001b[0m\u001b[0;34m'.xml'\u001b[0m\u001b[0;34m,\u001b[0m \u001b[0;34m''\u001b[0m\u001b[0;34m)\u001b[0m\u001b[0;34m.\u001b[0m\u001b[0mreplace\u001b[0m\u001b[0;34m(\u001b[0m\u001b[0;34m'.rpsbml'\u001b[0m\u001b[0;34m,\u001b[0m \u001b[0;34m''\u001b[0m\u001b[0;34m)\u001b[0m\u001b[0;34m\u001b[0m\u001b[0;34m\u001b[0m\u001b[0m\n\u001b[1;32m     88\u001b[0m                 \u001b[0mrpsbml\u001b[0m \u001b[0;34m=\u001b[0m \u001b[0mrpSBML\u001b[0m\u001b[0;34m.\u001b[0m\u001b[0mrpSBML\u001b[0m\u001b[0;34m(\u001b[0m\u001b[0mfileName\u001b[0m\u001b[0;34m)\u001b[0m\u001b[0;34m\u001b[0m\u001b[0;34m\u001b[0m\u001b[0m\n\u001b[0;32m---> 89\u001b[0;31m                 \u001b[0mrpsbml\u001b[0m\u001b[0;34m.\u001b[0m\u001b[0mreadSBML\u001b[0m\u001b[0;34m(\u001b[0m\u001b[0msbml_path\u001b[0m\u001b[0;34m)\u001b[0m\u001b[0;34m\u001b[0m\u001b[0;34m\u001b[0m\u001b[0m\n\u001b[0m\u001b[1;32m     90\u001b[0m                 globalScore = calculateGlobalScore(rpsbml,\n\u001b[1;32m     91\u001b[0m                                                    \u001b[0mweight_rp_steps\u001b[0m\u001b[0;34m,\u001b[0m\u001b[0;34m\u001b[0m\u001b[0;34m\u001b[0m\u001b[0m\n",
      "\u001b[0;32m~/workspace/Galaxy-SynBioCAD/rpGlobalScore/rpGlobalScore_image/rpSBML.py\u001b[0m in \u001b[0;36mreadSBML\u001b[0;34m(self, inFile)\u001b[0m\n\u001b[1;32m    365\u001b[0m             \u001b[0mself\u001b[0m\u001b[0;34m.\u001b[0m\u001b[0mlogger\u001b[0m\u001b[0;34m.\u001b[0m\u001b[0merror\u001b[0m\u001b[0;34m(\u001b[0m\u001b[0;34m'Invalid input file'\u001b[0m\u001b[0;34m)\u001b[0m\u001b[0;34m\u001b[0m\u001b[0;34m\u001b[0m\u001b[0m\n\u001b[1;32m    366\u001b[0m             \u001b[0;32mraise\u001b[0m \u001b[0mFileNotFoundError\u001b[0m\u001b[0;34m\u001b[0m\u001b[0;34m\u001b[0m\u001b[0m\n\u001b[0;32m--> 367\u001b[0;31m         \u001b[0mdocument\u001b[0m \u001b[0;34m=\u001b[0m \u001b[0mlibsbml\u001b[0m\u001b[0;34m.\u001b[0m\u001b[0mreadSBMLFromFile\u001b[0m\u001b[0;34m(\u001b[0m\u001b[0minFile\u001b[0m\u001b[0;34m)\u001b[0m\u001b[0;34m\u001b[0m\u001b[0;34m\u001b[0m\u001b[0m\n\u001b[0m\u001b[1;32m    368\u001b[0m         \u001b[0mself\u001b[0m\u001b[0;34m.\u001b[0m\u001b[0m_checklibSBML\u001b[0m\u001b[0;34m(\u001b[0m\u001b[0mdocument\u001b[0m\u001b[0;34m,\u001b[0m \u001b[0;34m'reading input file'\u001b[0m\u001b[0;34m)\u001b[0m\u001b[0;34m\u001b[0m\u001b[0;34m\u001b[0m\u001b[0m\n\u001b[1;32m    369\u001b[0m         \u001b[0merrors\u001b[0m \u001b[0;34m=\u001b[0m \u001b[0mdocument\u001b[0m\u001b[0;34m.\u001b[0m\u001b[0mgetNumErrors\u001b[0m\u001b[0;34m(\u001b[0m\u001b[0;34m)\u001b[0m\u001b[0;34m\u001b[0m\u001b[0;34m\u001b[0m\u001b[0m\n",
      "\u001b[0;32m~/anaconda3/envs/py36/lib/python3.6/site-packages/libsbml/__init__.py\u001b[0m in \u001b[0;36mreadSBMLFromFile\u001b[0;34m(filename)\u001b[0m\n\u001b[1;32m   2439\u001b[0m \u001b[0;34m\u001b[0m\u001b[0m\n\u001b[1;32m   2440\u001b[0m     \"\"\"\n\u001b[0;32m-> 2441\u001b[0;31m     \u001b[0;32mreturn\u001b[0m \u001b[0m_libsbml\u001b[0m\u001b[0;34m.\u001b[0m\u001b[0mreadSBMLFromFile\u001b[0m\u001b[0;34m(\u001b[0m\u001b[0mfilename\u001b[0m\u001b[0;34m)\u001b[0m\u001b[0;34m\u001b[0m\u001b[0;34m\u001b[0m\u001b[0m\n\u001b[0m\u001b[1;32m   2442\u001b[0m \u001b[0;34m\u001b[0m\u001b[0m\n\u001b[1;32m   2443\u001b[0m \u001b[0;32mdef\u001b[0m \u001b[0mreadSBMLFromString\u001b[0m\u001b[0;34m(\u001b[0m\u001b[0mxml\u001b[0m\u001b[0;34m)\u001b[0m\u001b[0;34m:\u001b[0m\u001b[0;34m\u001b[0m\u001b[0;34m\u001b[0m\u001b[0m\n",
      "\u001b[0;31mSystemError\u001b[0m: <built-in function readSBMLFromFile> returned a result with an error set"
     ]
    }
   ],
   "source": [
    "x0 = np.array([1.0, 1.0, 1.0, 1.0])\n",
    "res = minimize(matchScore, x0, method='nelder-mead', options={'xatol': 1e-8, 'disp': True})"
   ]
  },
  {
   "cell_type": "code",
   "execution_count": null,
   "metadata": {},
   "outputs": [],
   "source": []
  },
  {
   "cell_type": "code",
   "execution_count": null,
   "metadata": {},
   "outputs": [],
   "source": []
  },
  {
   "cell_type": "code",
   "execution_count": null,
   "metadata": {},
   "outputs": [],
   "source": []
  },
  {
   "cell_type": "code",
   "execution_count": null,
   "metadata": {},
   "outputs": [],
   "source": []
  },
  {
   "cell_type": "code",
   "execution_count": null,
   "metadata": {},
   "outputs": [],
   "source": []
  },
  {
   "cell_type": "code",
   "execution_count": null,
   "metadata": {},
   "outputs": [],
   "source": []
  },
  {
   "cell_type": "code",
   "execution_count": null,
   "metadata": {},
   "outputs": [],
   "source": []
  },
  {
   "cell_type": "code",
   "execution_count": null,
   "metadata": {},
   "outputs": [],
   "source": []
  },
  {
   "cell_type": "code",
   "execution_count": null,
   "metadata": {},
   "outputs": [],
   "source": []
  },
  {
   "cell_type": "code",
   "execution_count": null,
   "metadata": {},
   "outputs": [],
   "source": []
  },
  {
   "cell_type": "code",
   "execution_count": null,
   "metadata": {},
   "outputs": [],
   "source": []
  },
  {
   "cell_type": "code",
   "execution_count": null,
   "metadata": {},
   "outputs": [],
   "source": []
  },
  {
   "cell_type": "code",
   "execution_count": null,
   "metadata": {},
   "outputs": [],
   "source": []
  },
  {
   "cell_type": "code",
   "execution_count": null,
   "metadata": {},
   "outputs": [],
   "source": []
  },
  {
   "cell_type": "code",
   "execution_count": null,
   "metadata": {},
   "outputs": [],
   "source": []
  },
  {
   "cell_type": "code",
   "execution_count": null,
   "metadata": {},
   "outputs": [],
   "source": []
  },
  {
   "cell_type": "code",
   "execution_count": 13,
   "metadata": {},
   "outputs": [
    {
     "name": "stdout",
     "output_type": "stream",
     "text": [
      "{'rp_7_1': 0.3105588483158078, 'rp_3_5': 0.32922614534657474, 'rp_7_2': 0.3105588483158078, 'rp_4_3': 0.3293333212748951, 'rp_4_2': 0.3290269412444326, 'rp_4_5': 0.3294632042655237, 'rp_3_2': 0.3287898823254836, 'rp_8_1': 0.32293830166127113, 'rp_6_2': 0.31251708077361035, 'rp_6_1': 0.31251708077361035, 'rp_9_2': 0.3199676766612712, 'rp_5_2': 0.31168458482670514, 'rp_3_1': 0.32909626235594613, 'rp_3_6': 0.3284835022950211, 'rp_5_3': 0.29084568149763323, 'rp_4_1': 0.3293333212748951, 'rp_5_1': 0.31168458482670514, 'rp_3_3': 0.32909626235594613, 'rp_8_2': 0.32293830166127113, 'rp_9_1': 0.3199676766612712, 'rp_4_4': 0.3293333212748951, 'rp_3_4': 0.32909626235594613, 'rp_2_1': 0.4174502923419271, 'rp_4_6': 0.3287205612139701, 'rp_1_1': 0.39704430948333586}\n"
     ]
    }
   ],
   "source": [
    "print(top_fileNames)"
   ]
  },
  {
   "cell_type": "code",
   "execution_count": 25,
   "metadata": {},
   "outputs": [
    {
     "name": "stdout",
     "output_type": "stream",
     "text": [
      "{'rp_7_1': 0.3105588483158078, 'rp_3_5': 0.32922614534657474, 'rp_7_2': 0.3105588483158078, 'rp_4_3': 0.3293333212748951, 'rp_4_2': 0.3290269412444326, 'rp_4_5': 0.3294632042655237, 'rp_3_2': 0.3287898823254836, 'rp_8_1': 0.32293830166127113, 'rp_6_2': 0.31251708077361035, 'rp_6_1': 0.31251708077361035, 'rp_9_2': 0.1199676766612712, 'rp_5_2': 0.31168458482670514, 'rp_3_1': 0.32909626235594613, 'rp_3_6': 0.3284835022950211, 'rp_5_3': 0.29084568149763323, 'rp_4_1': 0.3293333212748951, 'rp_5_1': 0.31168458482670514, 'rp_3_3': 0.32909626235594613, 'rp_8_2': 0.32293830166127113, 'rp_9_1': 0.9199676766612712, 'rp_4_4': 0.3293333212748951, 'rp_3_4': 0.32909626235594613, 'rp_2_1': 0.4174502923419271, 'rp_4_6': 0.3287205612139701, 'rp_1_1': 0.39704430948333586}\n"
     ]
    }
   ],
   "source": [
    "print({'rp_7_1': 0.3105588483158078, 'rp_3_5': 0.32922614534657474, 'rp_7_2': 0.3105588483158078, 'rp_4_3': 0.3293333212748951, 'rp_4_2': 0.3290269412444326, 'rp_4_5': 0.3294632042655237, 'rp_3_2': 0.3287898823254836, 'rp_8_1': 0.32293830166127113, 'rp_6_2': 0.31251708077361035, 'rp_6_1': 0.31251708077361035, 'rp_9_2': 0.1199676766612712, 'rp_5_2': 0.31168458482670514, 'rp_3_1': 0.32909626235594613, 'rp_3_6': 0.3284835022950211, 'rp_5_3': 0.29084568149763323, 'rp_4_1': 0.3293333212748951, 'rp_5_1': 0.31168458482670514, 'rp_3_3': 0.32909626235594613, 'rp_8_2': 0.32293830166127113, 'rp_9_1': 0.9199676766612712, 'rp_4_4': 0.3293333212748951, 'rp_3_4': 0.32909626235594613, 'rp_2_1': 0.4174502923419271, 'rp_4_6': 0.3287205612139701, 'rp_1_1': 0.39704430948333586})"
   ]
  },
  {
   "cell_type": "code",
   "execution_count": 10,
   "metadata": {},
   "outputs": [],
   "source": [
    "ordered_filenames = [k for k, v in sorted(top_fileNames.items(), key=lambda item: item[1])]"
   ]
  },
  {
   "cell_type": "code",
   "execution_count": 12,
   "metadata": {},
   "outputs": [
    {
     "name": "stdout",
     "output_type": "stream",
     "text": [
      "['rp_5_3', 'rp_7_1', 'rp_7_2', 'rp_5_2', 'rp_5_1', 'rp_6_2', 'rp_6_1', 'rp_9_2', 'rp_9_1', 'rp_8_1', 'rp_8_2', 'rp_3_6', 'rp_4_6', 'rp_3_2', 'rp_4_2', 'rp_3_1', 'rp_3_3', 'rp_3_4', 'rp_3_5', 'rp_4_3', 'rp_4_1', 'rp_4_4', 'rp_4_5', 'rp_1_1', 'rp_2_1']\n"
     ]
    }
   ],
   "source": [
    "print(ordered_filenames)"
   ]
  },
  {
   "cell_type": "code",
   "execution_count": null,
   "metadata": {},
   "outputs": [],
   "source": [
    "rbo_dict(top_fileNames, dict(a=1, b=2, c=2, d=3), p=.9, sort_ascending=True)"
   ]
  },
  {
   "cell_type": "code",
   "execution_count": 8,
   "metadata": {},
   "outputs": [],
   "source": [
    "from scipy.stats import kendalltau"
   ]
  },
  {
   "cell_type": "code",
   "execution_count": null,
   "metadata": {},
   "outputs": [],
   "source": [
    "kendalltau"
   ]
  },
  {
   "cell_type": "code",
   "execution_count": null,
   "metadata": {},
   "outputs": [],
   "source": []
  },
  {
   "cell_type": "code",
   "execution_count": null,
   "metadata": {},
   "outputs": [],
   "source": []
  },
  {
   "cell_type": "code",
   "execution_count": 2,
   "metadata": {},
   "outputs": [
    {
     "ename": "AttributeError",
     "evalue": "module 'rpToolServe' has no attribute 'main'",
     "output_type": "error",
     "traceback": [
      "\u001b[0;31m---------------------------------------------------------------------------\u001b[0m",
      "\u001b[0;31mAttributeError\u001b[0m                            Traceback (most recent call last)",
      "\u001b[0;32m<ipython-input-2-14314478ec44>\u001b[0m in \u001b[0;36m<module>\u001b[0;34m\u001b[0m\n\u001b[0;32m----> 1\u001b[0;31m rpToolServe.main('/Users/melchior/Downloads/Galaxy913-[rpFBA].tar',\n\u001b[0m\u001b[1;32m      2\u001b[0m                  \u001b[0;34m'test_out.tar.xz'\u001b[0m\u001b[0;34m,\u001b[0m\u001b[0;34m\u001b[0m\u001b[0;34m\u001b[0m\u001b[0m\n\u001b[1;32m      3\u001b[0m                  \u001b[0;36m1.0\u001b[0m\u001b[0;34m,\u001b[0m\u001b[0;34m\u001b[0m\u001b[0;34m\u001b[0m\u001b[0m\n\u001b[1;32m      4\u001b[0m                  \u001b[0;36m1.0\u001b[0m\u001b[0;34m,\u001b[0m\u001b[0;34m\u001b[0m\u001b[0;34m\u001b[0m\u001b[0m\n\u001b[1;32m      5\u001b[0m                  \u001b[0;36m1.0\u001b[0m\u001b[0;34m,\u001b[0m\u001b[0;34m\u001b[0m\u001b[0;34m\u001b[0m\u001b[0m\n",
      "\u001b[0;31mAttributeError\u001b[0m: module 'rpToolServe' has no attribute 'main'"
     ]
    }
   ],
   "source": [
    "rpToolServe.main('/Users/melchior/Downloads/Galaxy913-[rpFBA].tar',\n",
    "                 'test_out.tar.xz',\n",
    "                 1.0,\n",
    "                 1.0,\n",
    "                 1.0,\n",
    "                 1.0,\n",
    "                 5,\n",
    "                 10,\n",
    "                 8901.2,\n",
    "                 -7570.2,\n",
    "                 999999.0,\n",
    "                 0.0,\n",
    "                 'rp_pathway',\n",
    "                 'obj_biomass',\n",
    "                 'dfG_prime_m')"
   ]
  },
  {
   "cell_type": "code",
   "execution_count": 2,
   "metadata": {},
   "outputs": [
    {
     "name": "stderr",
     "output_type": "stream",
     "text": [
      "WARNING:root:Could not retreive flux value: obj_RP1_sink\n",
      "WARNING:root:Missing selenzyme values for reaction: RP2\n",
      "WARNING:root:Could not retreive flux value: obj_RP1_sink\n",
      "WARNING:root:Could not retreive flux value: obj_RP1_sink\n",
      "WARNING:root:Could not retreive flux value: obj_RP1_sink\n",
      "WARNING:root:Could not retreive flux value: obj_RP1_sink\n",
      "WARNING:root:Could not retreive flux value: obj_RP1_sink\n",
      "WARNING:root:Missing selenzyme values for reaction: RP3\n",
      "WARNING:root:Could not retreive flux value: obj_RP1_sink\n",
      "WARNING:root:Missing selenzyme values for reaction: RP2\n",
      "WARNING:root:Could not retreive flux value: obj_RP1_sink\n",
      "WARNING:root:Missing selenzyme values for reaction: RP3\n",
      "WARNING:root:Could not retreive flux value: obj_RP1_sink\n",
      "WARNING:root:Could not retreive flux value: obj_RP1_sink\n",
      "WARNING:root:Could not retreive flux value: obj_RP1_sink\n",
      "WARNING:root:Missing selenzyme values for reaction: RP2\n",
      "WARNING:root:Could not retreive flux value: obj_RP1_sink\n",
      "WARNING:root:Could not retreive flux value: obj_RP1_sink\n",
      "WARNING:root:Could not retreive flux value: obj_RP1_sink\n",
      "WARNING:root:Could not retreive flux value: obj_RP1_sink\n",
      "WARNING:root:Could not retreive flux value: obj_RP1_sink\n",
      "WARNING:root:Missing selenzyme values for reaction: RP3\n",
      "WARNING:root:Could not retreive flux value: obj_RP1_sink\n",
      "WARNING:root:Could not retreive flux value: obj_RP1_sink\n",
      "WARNING:root:Could not retreive flux value: obj_RP1_sink\n",
      "WARNING:root:Could not retreive flux value: obj_RP1_sink\n",
      "WARNING:root:Missing selenzyme values for reaction: RP2\n",
      "WARNING:root:Could not retreive flux value: obj_RP1_sink\n",
      "WARNING:root:Could not retreive flux value: obj_RP1_sink\n",
      "WARNING:root:Missing selenzyme values for reaction: RP2\n",
      "WARNING:root:Could not retreive flux value: obj_RP1_sink\n",
      "WARNING:root:Missing selenzyme values for reaction: RP3\n",
      "WARNING:root:Could not retreive flux value: obj_RP1_sink\n",
      "WARNING:root:Could not retreive flux value: obj_RP1_sink\n",
      "WARNING:root:Missing selenzyme values for reaction: RP2\n",
      "WARNING:root:Could not retreive flux value: obj_RP1_sink\n",
      "WARNING:root:Could not retreive flux value: obj_RP1_sink\n"
     ]
    }
   ],
   "source": [
    "a = rpToolServe.runGlobalScore_hdd(open('/home/mdulac/Downloads/Galaxy107-[rpSelenzyme].tar', 'rb'),\n",
    "                                 'test_out.tar.xz',\n",
    "                                 1.0,\n",
    "                                 1.0,\n",
    "                                 1.0,\n",
    "                                 1.0,\n",
    "                                 5,\n",
    "                                 10,\n",
    "                                 8901.2,\n",
    "                                 -7570.2,\n",
    "                                 5.0,\n",
    "                                 0.0,\n",
    "                                 'rp_pathway',\n",
    "                                 'obj_RP1_sink__restricted_biomass',\n",
    "                                 'dfG_prime_m')"
   ]
  },
  {
   "cell_type": "code",
   "execution_count": 4,
   "metadata": {},
   "outputs": [],
   "source": [
    "g = {'rule_score': {'reactions': {'RP1': 0.0, 'RP2': 0.0, 'RP3': 0.0}, 'global': 0.0}, 'fba': {'reactions': {'RP1': {'fba_obj_biomass': 0.0, 'fba_obj_RP1_sink__restricted_biomass': 0.0}, 'RP2': {'fba_obj_biomass': 0.0, 'fba_obj_RP1_sink__restricted_biomass': 0.0}, 'RP3': {'fba_obj_biomass': 0.0, 'fba_obj_RP1_sink__restricted_biomass': 0.0}}, 'global': {'fba_obj_biomass': 0.0, 'fba_obj_RP1_sink__restricted_biomass': 0.0}}, 'selenzyme': {'reactions': {'RP1': 0.899, 'RP2': 0.84762, 'RP3': 0.55333}, 'global': 0.7666499999999999}, 'thermo': {'reactions': {'RP1': {'dfG_prime_m': 0.5660434479205154, 'dfG_uncert': 0.5398678866138138, 'dfG_prime_o': 0.5650043839954865}, 'RP2': {'dfG_prime_m': 0.5404499015854908, 'dfG_uncert': 0.5396242391768992, 'dfG_prime_o': 0.5425280294355486}, 'RP3': {'dfG_prime_m': 0.5730892789412517, 'dfG_uncert': 0.5400607446281782, 'dfG_prime_o': 0.5720502150162228}}, 'global': {'dfG_prime_m': 0.5598608761490861, 'dfG_uncert': 0.5398509568062971, 'dfG_prime_o': 0.559860876149086}}}\n"
   ]
  },
  {
   "cell_type": "code",
   "execution_count": 4,
   "metadata": {},
   "outputs": [
    {
     "data": {
      "text/plain": [
       "dict_keys(['rule_score', 'fba', 'selenzyme', 'thermo'])"
      ]
     },
     "execution_count": 4,
     "metadata": {},
     "output_type": "execute_result"
    }
   ],
   "source": [
    "g.keys()"
   ]
  },
  {
   "cell_type": "code",
   "execution_count": 5,
   "metadata": {},
   "outputs": [
    {
     "data": {
      "text/plain": [
       "dict_keys(['RP1', 'RP2', 'RP3'])"
      ]
     },
     "execution_count": 5,
     "metadata": {},
     "output_type": "execute_result"
    }
   ],
   "source": [
    "g['fba']['reactions'].keys()"
   ]
  },
  {
   "cell_type": "code",
   "execution_count": 6,
   "metadata": {},
   "outputs": [
    {
     "data": {
      "text/plain": [
       "dict_keys(['fba_obj_biomass', 'fba_obj_RP1_sink__restricted_biomass'])"
      ]
     },
     "execution_count": 6,
     "metadata": {},
     "output_type": "execute_result"
    }
   ],
   "source": [
    "g['fba']['global'].keys()"
   ]
  },
  {
   "cell_type": "code",
   "execution_count": 11,
   "metadata": {},
   "outputs": [
    {
     "data": {
      "text/plain": [
       "{'fba_obj_biomass': 0.0, 'fba_obj_RP1_sink__restricted_biomass': 0.0}"
      ]
     },
     "execution_count": 11,
     "metadata": {},
     "output_type": "execute_result"
    }
   ],
   "source": [
    "g['fba']['global']"
   ]
  },
  {
   "cell_type": "code",
   "execution_count": 8,
   "metadata": {},
   "outputs": [
    {
     "data": {
      "text/plain": [
       "dict_keys(['RP1', 'RP2', 'RP3'])"
      ]
     },
     "execution_count": 8,
     "metadata": {},
     "output_type": "execute_result"
    }
   ],
   "source": [
    "g['thermo']['reactions'].keys()"
   ]
  },
  {
   "cell_type": "code",
   "execution_count": 9,
   "metadata": {},
   "outputs": [
    {
     "data": {
      "text/plain": [
       "{'RP1': {'dfG_prime_m': 0.5660434479205154,\n",
       "  'dfG_uncert': 0.5398678866138138,\n",
       "  'dfG_prime_o': 0.5650043839954865},\n",
       " 'RP2': {'dfG_prime_m': 0.5404499015854908,\n",
       "  'dfG_uncert': 0.5396242391768992,\n",
       "  'dfG_prime_o': 0.5425280294355486},\n",
       " 'RP3': {'dfG_prime_m': 0.5730892789412517,\n",
       "  'dfG_uncert': 0.5400607446281782,\n",
       "  'dfG_prime_o': 0.5720502150162228}}"
      ]
     },
     "execution_count": 9,
     "metadata": {},
     "output_type": "execute_result"
    }
   ],
   "source": [
    "g['thermo']['reactions']"
   ]
  },
  {
   "cell_type": "code",
   "execution_count": 10,
   "metadata": {},
   "outputs": [
    {
     "data": {
      "text/plain": [
       "{'dfG_prime_m': 0.5598608761490861,\n",
       " 'dfG_uncert': 0.5398509568062971,\n",
       " 'dfG_prime_o': 0.559860876149086}"
      ]
     },
     "execution_count": 10,
     "metadata": {},
     "output_type": "execute_result"
    }
   ],
   "source": [
    "g['thermo']['global']"
   ]
  },
  {
   "cell_type": "code",
   "execution_count": null,
   "metadata": {},
   "outputs": [],
   "source": [
    "for reac in g['thermo']['reactions']:\n",
    "    g['thermo']['global'][reac] += "
   ]
  },
  {
   "cell_type": "code",
   "execution_count": 5,
   "metadata": {},
   "outputs": [
    {
     "data": {
      "text/plain": [
       "{'reactions': {'RP1': 0.899, 'RP2': 0.84762, 'RP3': 0.55333},\n",
       " 'global': 0.7666499999999999}"
      ]
     },
     "execution_count": 5,
     "metadata": {},
     "output_type": "execute_result"
    }
   ],
   "source": [
    "g['selenzyme']"
   ]
  },
  {
   "cell_type": "code",
   "execution_count": 3,
   "metadata": {},
   "outputs": [],
   "source": [
    "j = {'dfG_prime_m': {}, 'dfG_uncert': {}, 'dfG_prime_o': {}, 'path_id': None, 'step_id': None, 'sub_step_id': None, 'rule_score': None, 'smiles': None, 'inchi': None, 'inchikey': None, 'selenzyme': None, 'rule_id': None, 'rule_ori_reac': None, 'global_score': None, 'flux_value': {'units': 'mmol_per_gDW_per_hr', 'value': 0.7637845695834864}}\n"
   ]
  },
  {
   "cell_type": "code",
   "execution_count": 4,
   "metadata": {},
   "outputs": [
    {
     "data": {
      "text/plain": [
       "{'dfG_prime_m': {},\n",
       " 'dfG_uncert': {},\n",
       " 'dfG_prime_o': {},\n",
       " 'path_id': None,\n",
       " 'step_id': None,\n",
       " 'sub_step_id': None,\n",
       " 'rule_score': None,\n",
       " 'smiles': None,\n",
       " 'inchi': None,\n",
       " 'inchikey': None,\n",
       " 'selenzyme': None,\n",
       " 'rule_id': None,\n",
       " 'rule_ori_reac': None,\n",
       " 'global_score': None,\n",
       " 'flux_value': {'units': 'mmol_per_gDW_per_hr', 'value': 0.7637845695834864}}"
      ]
     },
     "execution_count": 4,
     "metadata": {},
     "output_type": "execute_result"
    }
   ],
   "source": [
    "j"
   ]
  },
  {
   "cell_type": "code",
   "execution_count": null,
   "metadata": {},
   "outputs": [],
   "source": []
  },
  {
   "cell_type": "code",
   "execution_count": null,
   "metadata": {},
   "outputs": [],
   "source": []
  },
  {
   "cell_type": "code",
   "execution_count": null,
   "metadata": {},
   "outputs": [],
   "source": []
  },
  {
   "cell_type": "code",
   "execution_count": null,
   "metadata": {},
   "outputs": [],
   "source": []
  },
  {
   "cell_type": "code",
   "execution_count": null,
   "metadata": {},
   "outputs": [],
   "source": []
  },
  {
   "cell_type": "code",
   "execution_count": null,
   "metadata": {},
   "outputs": [],
   "source": []
  },
  {
   "cell_type": "code",
   "execution_count": 3,
   "metadata": {},
   "outputs": [],
   "source": [
    "h = {'dfG_prime_m': {}, 'dfG_uncert': {}, 'dfG_prime_o': {}, 'path_id': None, 'step_id': None, 'sub_step_id': None, 'rule_score': None, 'smiles': None, 'inchi': None, 'inchikey': None, 'selenzyme': None, 'rule_id': None, 'rule_ori_reac': None, 'global_score': None, 'flux_value': {'units': 'mmol_per_gDW_per_hr', 'value': 0.7637845695834787}}"
   ]
  },
  {
   "cell_type": "code",
   "execution_count": 6,
   "metadata": {},
   "outputs": [
    {
     "data": {
      "text/plain": [
       "0.7637845695834787"
      ]
     },
     "execution_count": 6,
     "metadata": {},
     "output_type": "execute_result"
    }
   ],
   "source": [
    "h['flux_value']['value']"
   ]
  },
  {
   "cell_type": "code",
   "execution_count": null,
   "metadata": {},
   "outputs": [],
   "source": []
  },
  {
   "cell_type": "code",
   "execution_count": null,
   "metadata": {},
   "outputs": [],
   "source": []
  },
  {
   "cell_type": "code",
   "execution_count": 4,
   "metadata": {},
   "outputs": [],
   "source": [
    "g = {'rule_score': {'reactions': {'RP1': 0.0, 'RP2': 0.0, 'RP3': 0.0}, 'global': 0.0}, 'fba': {'reactions': {'RP1': {'fba_obj_biomass': 0.0, 'fba_obj_RP1_sink__restricted_biomass': 1.411643237152398e-06}, 'RP2': {'fba_obj_biomass': 0.0, 'fba_obj_RP1_sink__restricted_biomass': 1.411643237152398e-06}, 'RP3': {'fba_obj_biomass': 0.0, 'fba_obj_RP1_sink__restricted_biomass': 1.411643237152398e-06}}, 'global': {'fba_obj_biomass': 0.0, 'fba_obj_RP1_sink__restricted_biomass': 0.0}}, 'selenzyme': {'reactions': {'RP1': 0.899, 'RP2': 0.0, 'RP3': 0.81793}, 'global': 1.71693}, 'thermo': {'reactions': {'RP1': {'dfG_prime_m': 0.5660434479205154, 'dfG_uncert': 0.5398678866138138, 'dfG_prime_o': 0.5650043839954865}, 'RP2': {'dfG_prime_m': 0.5866044559365738, 'dfG_uncert': 0.5395284798361183, 'dfG_prime_o': 0.5866044559365738}, 'RP3': {'dfG_prime_m': 0.5126225003815702, 'dfG_uncert': 0.5399679698578291, 'dfG_prime_o': 0.5136615643065991}}, 'global': {'dfG_prime_m': 0.5126225003815702, 'dfG_uncert': 0.0, 'dfG_prime_o': 0.0}}}"
   ]
  },
  {
   "cell_type": "code",
   "execution_count": 7,
   "metadata": {},
   "outputs": [
    {
     "data": {
      "text/plain": [
       "{'dfG_prime_m': 0.5126225003815702, 'dfG_uncert': 0.0, 'dfG_prime_o': 0.0}"
      ]
     },
     "execution_count": 7,
     "metadata": {},
     "output_type": "execute_result"
    }
   ],
   "source": [
    "g['thermo']['global']"
   ]
  },
  {
   "cell_type": "code",
   "execution_count": null,
   "metadata": {},
   "outputs": [],
   "source": []
  },
  {
   "cell_type": "code",
   "execution_count": 1,
   "metadata": {},
   "outputs": [],
   "source": [
    "import rpSBML"
   ]
  },
  {
   "cell_type": "code",
   "execution_count": 2,
   "metadata": {},
   "outputs": [],
   "source": [
    "a = '/Users/melchior/Downloads/Galaxy1015-[rpGlobalScore]/rp_1_2.rpsbml.xml'"
   ]
  },
  {
   "cell_type": "code",
   "execution_count": 3,
   "metadata": {},
   "outputs": [],
   "source": [
    "rpsbml = rpSBML.rpSBML('test')\n",
    "rpsbml.readSBML(a)"
   ]
  },
  {
   "cell_type": "code",
   "execution_count": 4,
   "metadata": {},
   "outputs": [
    {
     "data": {
      "text/plain": [
       "<rpSBML.rpSBML at 0x11161ab38>"
      ]
     },
     "execution_count": 4,
     "metadata": {},
     "output_type": "execute_result"
    }
   ],
   "source": [
    "rpsbml"
   ]
  },
  {
   "cell_type": "code",
   "execution_count": 5,
   "metadata": {},
   "outputs": [],
   "source": [
    "groups = rpsbml.model.getPlugin('groups')\n",
    "fbc = rpsbml.model.getPlugin('fbc')\n",
    "rp_pathway = groups.getGroup('rp_pathway')"
   ]
  },
  {
   "cell_type": "code",
   "execution_count": 6,
   "metadata": {},
   "outputs": [
    {
     "data": {
      "text/plain": [
       "['RP1', 'RP2']"
      ]
     },
     "execution_count": 6,
     "metadata": {},
     "output_type": "execute_result"
    }
   ],
   "source": [
    "rpsbml.readRPpathwayIDs()"
   ]
  },
  {
   "cell_type": "code",
   "execution_count": 7,
   "metadata": {},
   "outputs": [],
   "source": [
    "members = rp_pathway.getListOfMembers()"
   ]
  },
  {
   "cell_type": "code",
   "execution_count": 9,
   "metadata": {},
   "outputs": [
    {
     "data": {
      "text/plain": [
       "<Member>"
      ]
     },
     "execution_count": 9,
     "metadata": {},
     "output_type": "execute_result"
    }
   ],
   "source": [
    "members[0]"
   ]
  },
  {
   "cell_type": "code",
   "execution_count": 13,
   "metadata": {},
   "outputs": [],
   "source": [
    "objs = fbc.getListOfObjectives()"
   ]
  },
  {
   "cell_type": "code",
   "execution_count": 14,
   "metadata": {},
   "outputs": [
    {
     "data": {
      "text/plain": [
       "<ListOfObjectives[3]>"
      ]
     },
     "execution_count": 14,
     "metadata": {},
     "output_type": "execute_result"
    }
   ],
   "source": [
    "objs"
   ]
  },
  {
   "cell_type": "code",
   "execution_count": 15,
   "metadata": {},
   "outputs": [],
   "source": [
    "brsynth_dict = rpsbml.readBRSYNTHAnnotation(objs[0].getAnnotation())"
   ]
  },
  {
   "cell_type": "code",
   "execution_count": 16,
   "metadata": {},
   "outputs": [
    {
     "data": {
      "text/plain": [
       "{'dfG_prime_m': {},\n",
       " 'dfG_uncert': {},\n",
       " 'dfG_prime_o': {},\n",
       " 'path_id': None,\n",
       " 'step_id': None,\n",
       " 'sub_step_id': None,\n",
       " 'rule_score': None,\n",
       " 'smiles': None,\n",
       " 'inchi': None,\n",
       " 'inchikey': None,\n",
       " 'selenzyme': None,\n",
       " 'rule_id': None,\n",
       " 'rule_ori_reac': None,\n",
       " 'global_score': None,\n",
       " 'flux_value': {'units': 'mmol_per_gDW_per_hr', 'value': 0.7637845695834804}}"
      ]
     },
     "execution_count": 16,
     "metadata": {},
     "output_type": "execute_result"
    }
   ],
   "source": [
    "brsynth_dict"
   ]
  },
  {
   "cell_type": "code",
   "execution_count": 17,
   "metadata": {},
   "outputs": [],
   "source": [
    "obj = objs[0]"
   ]
  },
  {
   "cell_type": "code",
   "execution_count": 19,
   "metadata": {},
   "outputs": [
    {
     "data": {
      "text/plain": [
       "[<ListOfFluxObjectives[1]>, <FluxObjective>]"
      ]
     },
     "execution_count": 19,
     "metadata": {},
     "output_type": "execute_result"
    }
   ],
   "source": [
    "obj.getListOfAllElements()"
   ]
  },
  {
   "cell_type": "code",
   "execution_count": 20,
   "metadata": {},
   "outputs": [
    {
     "data": {
      "text/plain": [
       "<ListOfFluxObjectives[1]>"
      ]
     },
     "execution_count": 20,
     "metadata": {},
     "output_type": "execute_result"
    }
   ],
   "source": [
    "obj.getListOfFluxObjectives()"
   ]
  },
  {
   "cell_type": "code",
   "execution_count": 21,
   "metadata": {},
   "outputs": [],
   "source": [
    "b = obj.getListOfFluxObjectives()[0]"
   ]
  },
  {
   "cell_type": "code",
   "execution_count": 22,
   "metadata": {},
   "outputs": [
    {
     "data": {
      "text/plain": [
       "<FluxObjective>"
      ]
     },
     "execution_count": 22,
     "metadata": {},
     "output_type": "execute_result"
    }
   ],
   "source": [
    "b"
   ]
  },
  {
   "cell_type": "code",
   "execution_count": 23,
   "metadata": {},
   "outputs": [
    {
     "data": {
      "text/plain": [
       "{'dfG_prime_m': {},\n",
       " 'dfG_uncert': {},\n",
       " 'dfG_prime_o': {},\n",
       " 'path_id': None,\n",
       " 'step_id': None,\n",
       " 'sub_step_id': None,\n",
       " 'rule_score': None,\n",
       " 'smiles': None,\n",
       " 'inchi': None,\n",
       " 'inchikey': None,\n",
       " 'selenzyme': None,\n",
       " 'rule_id': None,\n",
       " 'rule_ori_reac': None,\n",
       " 'global_score': None,\n",
       " 'flux_value': {'units': 'mmol_per_gDW_per_hr', 'value': 0.7637845695834804}}"
      ]
     },
     "execution_count": 23,
     "metadata": {},
     "output_type": "execute_result"
    }
   ],
   "source": [
    "rpsbml.readBRSYNTHAnnotation(b.getAnnotation())"
   ]
  },
  {
   "cell_type": "code",
   "execution_count": 24,
   "metadata": {},
   "outputs": [
    {
     "data": {
      "text/plain": [
       "'obj_biomass'"
      ]
     },
     "execution_count": 24,
     "metadata": {},
     "output_type": "execute_result"
    }
   ],
   "source": [
    "obj.getId()"
   ]
  },
  {
   "cell_type": "code",
   "execution_count": null,
   "metadata": {},
   "outputs": [],
   "source": []
  }
 ],
 "metadata": {
  "kernelspec": {
   "display_name": "Python 3",
   "language": "python",
   "name": "python3"
  },
  "language_info": {
   "codemirror_mode": {
    "name": "ipython",
    "version": 3
   },
   "file_extension": ".py",
   "mimetype": "text/x-python",
   "name": "python",
   "nbconvert_exporter": "python",
   "pygments_lexer": "ipython3",
   "version": "3.6.8"
  }
 },
 "nbformat": 4,
 "nbformat_minor": 4
}
