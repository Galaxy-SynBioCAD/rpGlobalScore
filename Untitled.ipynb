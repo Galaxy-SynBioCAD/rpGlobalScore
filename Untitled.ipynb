{
 "cells": [
  {
   "cell_type": "code",
   "execution_count": 1,
   "metadata": {},
   "outputs": [],
   "source": [
    "import libsbml\n",
    "import argparse\n",
    "import os\n",
    "import io\n",
    "import tarfile\n",
    "import glob\n",
    "import tempfile\n",
    "import shutil\n",
    "\n",
    "import json\n",
    "import \n",
    "\n",
    "import rpSBML\n",
    "from rpTool import calculateGlobalScore\n",
    "import rpToolServe"
   ]
  },
  {
   "cell_type": "code",
   "execution_count": null,
   "metadata": {},
   "outputs": [],
   "source": []
  },
  {
   "cell_type": "code",
   "execution_count": null,
   "metadata": {},
   "outputs": [],
   "source": []
  },
  {
   "cell_type": "code",
   "execution_count": null,
   "metadata": {},
   "outputs": [],
   "source": []
  },
  {
   "cell_type": "code",
   "execution_count": null,
   "metadata": {},
   "outputs": [],
   "source": []
  },
  {
   "cell_type": "code",
   "execution_count": null,
   "metadata": {},
   "outputs": [],
   "source": []
  },
  {
   "cell_type": "code",
   "execution_count": null,
   "metadata": {},
   "outputs": [],
   "source": []
  },
  {
   "cell_type": "code",
   "execution_count": null,
   "metadata": {},
   "outputs": [],
   "source": []
  },
  {
   "cell_type": "code",
   "execution_count": 2,
   "metadata": {},
   "outputs": [
    {
     "ename": "AttributeError",
     "evalue": "module 'rpToolServe' has no attribute 'main'",
     "output_type": "error",
     "traceback": [
      "\u001b[0;31m---------------------------------------------------------------------------\u001b[0m",
      "\u001b[0;31mAttributeError\u001b[0m                            Traceback (most recent call last)",
      "\u001b[0;32m<ipython-input-2-14314478ec44>\u001b[0m in \u001b[0;36m<module>\u001b[0;34m\u001b[0m\n\u001b[0;32m----> 1\u001b[0;31m rpToolServe.main('/Users/melchior/Downloads/Galaxy913-[rpFBA].tar',\n\u001b[0m\u001b[1;32m      2\u001b[0m                  \u001b[0;34m'test_out.tar.xz'\u001b[0m\u001b[0;34m,\u001b[0m\u001b[0;34m\u001b[0m\u001b[0;34m\u001b[0m\u001b[0m\n\u001b[1;32m      3\u001b[0m                  \u001b[0;36m1.0\u001b[0m\u001b[0;34m,\u001b[0m\u001b[0;34m\u001b[0m\u001b[0;34m\u001b[0m\u001b[0m\n\u001b[1;32m      4\u001b[0m                  \u001b[0;36m1.0\u001b[0m\u001b[0;34m,\u001b[0m\u001b[0;34m\u001b[0m\u001b[0;34m\u001b[0m\u001b[0m\n\u001b[1;32m      5\u001b[0m                  \u001b[0;36m1.0\u001b[0m\u001b[0;34m,\u001b[0m\u001b[0;34m\u001b[0m\u001b[0;34m\u001b[0m\u001b[0m\n",
      "\u001b[0;31mAttributeError\u001b[0m: module 'rpToolServe' has no attribute 'main'"
     ]
    }
   ],
   "source": [
    "rpToolServe.main('/Users/melchior/Downloads/Galaxy913-[rpFBA].tar',\n",
    "                 'test_out.tar.xz',\n",
    "                 1.0,\n",
    "                 1.0,\n",
    "                 1.0,\n",
    "                 1.0,\n",
    "                 5,\n",
    "                 10,\n",
    "                 8901.2,\n",
    "                 -7570.2,\n",
    "                 999999.0,\n",
    "                 0.0,\n",
    "                 'rp_pathway',\n",
    "                 'obj_biomass',\n",
    "                 'dfG_prime_m')"
   ]
  },
  {
   "cell_type": "code",
   "execution_count": 2,
   "metadata": {},
   "outputs": [
    {
     "name": "stderr",
     "output_type": "stream",
     "text": [
      "WARNING:root:Missing selenzyme values for reaction: RP2\n",
      "WARNING:root:Could not retreive flux value: obj_RP1_sink__restricted_biomass\n",
      "WARNING:root:Missing selenzyme values for reaction: RP3\n",
      "WARNING:root:Could not retreive flux value: obj_RP1_sink__restricted_biomass\n",
      "WARNING:root:Missing selenzyme values for reaction: RP2\n",
      "WARNING:root:Could not retreive flux value: obj_RP1_sink__restricted_biomass\n"
     ]
    },
    {
     "name": "stdout",
     "output_type": "stream",
     "text": [
      "{'rule_score': {'reactions': {'RP1': 0.0, 'RP2': 0.0, 'RP3': 0.0}, 'global': 0.0}, 'fba': {'reactions': {'RP1': {'fba_obj_biomass': 0.0, 'fba_obj_RP1_sink__restricted_biomass': 0.2823283651018321}, 'RP2': {'fba_obj_biomass': 0.0, 'fba_obj_RP1_sink__restricted_biomass': 0.2823283651018321}, 'RP3': {'fba_obj_biomass': 0.0, 'fba_obj_RP1_sink__restricted_biomass': 0.2823283651018321}}, 'global': {'fba_obj_biomass': 0.0, 'fba_obj_RP1_sink__restricted_biomass': 0.0}}, 'selenzyme': {'reactions': {'RP1': 0.899, 'RP2': 0.0, 'RP3': 0.81793}, 'global': 1.71693}, 'thermo': {'reactions': {'RP1': {'dfG_prime_m': 0.5660434479205154, 'dfG_uncert': 0.5398678866138138, 'dfG_prime_o': 0.5650043839954865}, 'RP2': {'dfG_prime_m': 0.5866044559365738, 'dfG_uncert': 0.5395284798361183, 'dfG_prime_o': 0.5866044559365738}, 'RP3': {'dfG_prime_m': 0.5126225003815702, 'dfG_uncert': 0.5399679698578291, 'dfG_prime_o': 0.5136615643065991}}, 'global': {'dfG_prime_m': 0.5126225003815702, 'dfG_uncert': 0.0, 'dfG_prime_o': 0.0}}}\n",
      "0.31079604169846414\n",
      "{'rule_score': {'reactions': {'RP1': 0.0, 'RP2': 0.0, 'RP3': 0.0}, 'global': 0.0}, 'fba': {'reactions': {'RP1': {'fba_obj_biomass': 0.0, 'fba_obj_RP1_sink__restricted_biomass': 0.2729797437408386}, 'RP2': {'fba_obj_biomass': 0.0, 'fba_obj_RP1_sink__restricted_biomass': 0.2729797437408386}, 'RP3': {'fba_obj_biomass': 0.0, 'fba_obj_RP1_sink__restricted_biomass': 0.2729797437408386}}, 'global': {'fba_obj_biomass': 0.0, 'fba_obj_RP1_sink__restricted_biomass': 0.0}}, 'selenzyme': {'reactions': {'RP1': 0.899, 'RP2': 0.86033, 'RP3': 0.0}, 'global': 1.75933}, 'thermo': {'reactions': {'RP1': {'dfG_prime_m': 0.5660434479205154, 'dfG_uncert': 0.5398678866138138, 'dfG_prime_o': 0.5650043839954865}, 'RP2': {'dfG_prime_m': 0.540509966435007, 'dfG_uncert': 0.5396242391768992, 'dfG_prime_o': 0.5425880942850649}, 'RP3': {'dfG_prime_m': 0.5603035481047605, 'dfG_uncert': 0.5400607446281782, 'dfG_prime_o': 0.5603035481047605}}, 'global': {'dfG_prime_m': 0.5603035481047605, 'dfG_uncert': 0.0, 'dfG_prime_o': 0.0}}}\n",
      "0.3183027956753967\n",
      "{'rule_score': {'reactions': {'RP1': 0.0, 'RP2': 0.0, 'RP3': 0.0}, 'global': 0.0}, 'fba': {'reactions': {'RP1': {'fba_obj_biomass': 0.0, 'fba_obj_RP1_sink__restricted_biomass': 0.33241888149086013}, 'RP2': {'fba_obj_biomass': 0.0, 'fba_obj_RP1_sink__restricted_biomass': 0.33241888149086013}, 'RP3': {'fba_obj_biomass': 0.0, 'fba_obj_RP1_sink__restricted_biomass': 0.33241888149086013}}, 'global': {'fba_obj_biomass': 0.0, 'fba_obj_RP1_sink__restricted_biomass': 0.0}}, 'selenzyme': {'reactions': {'RP1': 0.899, 'RP2': 0.0, 'RP3': 0.746}, 'global': 1.645}, 'thermo': {'reactions': {'RP1': {'dfG_prime_m': 0.5660434479205154, 'dfG_uncert': 0.5398678866138138, 'dfG_prime_o': 0.5650043839954865}, 'RP2': {'dfG_prime_m': 0.5866044559365738, 'dfG_uncert': 0.5395284798361183, 'dfG_prime_o': 0.5866044559365738}, 'RP3': {'dfG_prime_m': 0.49760844725856135, 'dfG_uncert': 0.5399679698578291, 'dfG_prime_o': 0.49760844725856135}}, 'global': {'dfG_prime_m': 0.49760844725856135, 'dfG_uncert': 0.0, 'dfG_prime_o': 0.0}}}\n",
      "0.30355070393821343"
     ]
    },
    {
     "name": "stderr",
     "output_type": "stream",
     "text": [
      "WARNING:root:Missing selenzyme values for reaction: RP3\n",
      "WARNING:root:Could not retreive flux value: obj_RP1_sink__restricted_biomass\n",
      "WARNING:root:Could not retreive flux value: obj_RP1_sink__restricted_biomass\n"
     ]
    },
    {
     "name": "stdout",
     "output_type": "stream",
     "text": [
      "\n",
      "{'rule_score': {'reactions': {'RP1': 0.0, 'RP2': 0.0, 'RP3': 0.0}, 'global': 0.0}, 'fba': {'reactions': {'RP1': {'fba_obj_biomass': 0.0, 'fba_obj_RP1_sink__restricted_biomass': 0.2823283651018248}, 'RP2': {'fba_obj_biomass': 0.0, 'fba_obj_RP1_sink__restricted_biomass': 0.2823283651018248}, 'RP3': {'fba_obj_biomass': 0.0, 'fba_obj_RP1_sink__restricted_biomass': 0.2823283651018248}}, 'global': {'fba_obj_biomass': 0.0, 'fba_obj_RP1_sink__restricted_biomass': 0.0}}, 'selenzyme': {'reactions': {'RP1': 0.899, 'RP2': 0.75412, 'RP3': 0.0}, 'global': 1.65312}, 'thermo': {'reactions': {'RP1': {'dfG_prime_m': 0.5660434479205154, 'dfG_uncert': 0.5398678866138138, 'dfG_prime_o': 0.5650043839954865}, 'RP2': {'dfG_prime_m': 0.5075440319769897, 'dfG_uncert': 0.5396376249548915, 'dfG_prime_o': 0.5085830959020186}, 'RP3': {'dfG_prime_m': 0.5916829243411543, 'dfG_uncert': 0.540038155359736, 'dfG_prime_o': 0.5916829243411543}}, 'global': {'dfG_prime_m': 0.5916829243411543, 'dfG_uncert': 0.0, 'dfG_prime_o': 0.0}}}\n",
      "0.3120669103617629\n",
      "{'rule_score': {'reactions': {'RP1': 0.0, 'RP2': 0.0}, 'global': 0.0}, 'fba': {'reactions': {'RP1': {'fba_obj_biomass': 0.0, 'fba_obj_RP1_sink__restricted_biomass': 0.0}, 'RP2': {'fba_obj_biomass': 0.0, 'fba_obj_RP1_sink__restricted_biomass': 0.0}}, 'global': {'fba_obj_biomass': 0.0, 'fba_obj_RP1_sink__restricted_biomass': 0.0}}, 'selenzyme': {'reactions': {'RP1': 0.899, 'RP2': 0.70666}, 'global': 1.6056599999999999}, 'thermo': {'reactions': {'RP1': {'dfG_prime_m': 0.5660434479205154, 'dfG_uncert': 0.5398678866138138, 'dfG_prime_o': 0.5650043839954865}, 'RP2': {'dfG_prime_m': 0.3109057823030935, 'dfG_uncert': 0.5399462659598205, 'dfG_prime_o': 0.31402297407818025}}, 'global': {'dfG_prime_m': 0.3109057823030935, 'dfG_uncert': 0.0, 'dfG_prime_o': 0.0}}}\n",
      "0.42707072278788666\n"
     ]
    },
    {
     "name": "stderr",
     "output_type": "stream",
     "text": [
      "WARNING:root:Missing selenzyme values for reaction: RP3\n",
      "WARNING:root:Could not retreive flux value: obj_RP1_sink__restricted_biomass\n",
      "WARNING:root:Missing selenzyme values for reaction: RP2\n",
      "WARNING:root:Could not retreive flux value: obj_RP1_sink__restricted_biomass\n",
      "WARNING:root:Missing selenzyme values for reaction: RP2\n",
      "WARNING:root:Could not retreive flux value: obj_RP1_sink__restricted_biomass\n"
     ]
    },
    {
     "name": "stdout",
     "output_type": "stream",
     "text": [
      "{'rule_score': {'reactions': {'RP1': 0.0, 'RP2': 0.0, 'RP3': 0.0}, 'global': 0.0}, 'fba': {'reactions': {'RP1': {'fba_obj_biomass': 0.0, 'fba_obj_RP1_sink__restricted_biomass': 0.274799608699111}, 'RP2': {'fba_obj_biomass': 0.0, 'fba_obj_RP1_sink__restricted_biomass': 0.274799608699111}, 'RP3': {'fba_obj_biomass': 0.0, 'fba_obj_RP1_sink__restricted_biomass': 0.274799608699111}}, 'global': {'fba_obj_biomass': 0.0, 'fba_obj_RP1_sink__restricted_biomass': 0.0}}, 'selenzyme': {'reactions': {'RP1': 0.899, 'RP2': 0.84762, 'RP3': 0.0}, 'global': 1.74662}, 'thermo': {'reactions': {'RP1': {'dfG_prime_m': 0.5660434479205154, 'dfG_uncert': 0.5398678866138138, 'dfG_prime_o': 0.5650043839954865}, 'RP2': {'dfG_prime_m': 0.5404499015854908, 'dfG_uncert': 0.5396242391768992, 'dfG_prime_o': 0.5425280294355486}, 'RP3': {'dfG_prime_m': 0.5603035481047605, 'dfG_uncert': 0.5400607446281782, 'dfG_prime_o': 0.5603035481047605}}, 'global': {'dfG_prime_m': 0.5603035481047605, 'dfG_uncert': 0.0, 'dfG_prime_o': 0.0}}}\n",
      "0.31724362900873\n",
      "{'rule_score': {'reactions': {'RP1': 0.0, 'RP2': 0.0}, 'global': 0.0}, 'fba': {'reactions': {'RP1': {'fba_obj_biomass': 0.0, 'fba_obj_RP1_sink__restricted_biomass': 0.30761150227513917}, 'RP2': {'fba_obj_biomass': 0.0, 'fba_obj_RP1_sink__restricted_biomass': 0.30761150227513917}}, 'global': {'fba_obj_biomass': 0.0, 'fba_obj_RP1_sink__restricted_biomass': 0.0}}, 'selenzyme': {'reactions': {'RP1': 0.899, 'RP2': 0.0}, 'global': 0.899}, 'thermo': {'reactions': {'RP1': {'dfG_prime_m': 0.5660434479205154, 'dfG_uncert': 0.5398678866138138, 'dfG_prime_o': 0.5650043839954865}, 'RP2': {'dfG_prime_m': 0.5356350677868771, 'dfG_uncert': 0.5399462659598205, 'dfG_prime_o': 0.5356350677868771}}, 'global': {'dfG_prime_m': 0.5356350677868771, 'dfG_uncert': 0.0, 'dfG_prime_o': 0.0}}}\n",
      "0.36682938347335964\n",
      "{'rule_score': {'reactions': {'RP1': 0.0, 'RP2': 0.0, 'RP3': 0.0}, 'global': 0.0}, 'fba': {'reactions': {'RP1': {'fba_obj_biomass': 0.0, 'fba_obj_RP1_sink__restricted_biomass': 0.0}, 'RP2': {'fba_obj_biomass': 0.0, 'fba_obj_RP1_sink__restricted_biomass': 0.0}, 'RP3': {'fba_obj_biomass': 0.0, 'fba_obj_RP1_sink__restricted_biomass': 0.0}}, 'global': {'fba_obj_biomass': 0.0, 'fba_obj_RP1_sink__restricted_biomass': 0.0}}, 'selenzyme': {'reactions': {'RP1': 0.899, 'RP2': 0.0, 'RP3': 0.88881}, 'global': 1.78781}, 'thermo': {'reactions': {'RP1': {'dfG_prime_m': 0.5660434479205154, 'dfG_uncert': 0.5398678866138138, 'dfG_prime_o': 0.5650043839954865}, 'RP2': {'dfG_prime_m': 0.5866044559365738, 'dfG_uncert': 0.5395284798361183, 'dfG_prime_o': 0.5866044559365738}, 'RP3': {'dfG_prime_m': 0.26337660533804375, 'dfG_uncert': 0.5399679698578291, 'dfG_prime_o': 0.2664937971131305}}, 'global': {'dfG_prime_m': 0.26337660533804375, 'dfG_uncert': 0.0, 'dfG_prime_o': 0.0}}}\n",
      "0.2959322171115037"
     ]
    },
    {
     "name": "stderr",
     "output_type": "stream",
     "text": [
      "WARNING:root:Missing selenzyme values for reaction: RP3\n",
      "WARNING:root:Could not retreive flux value: obj_RP1_sink__restricted_biomass\n"
     ]
    },
    {
     "name": "stdout",
     "output_type": "stream",
     "text": [
      "\n",
      "{'rule_score': {'reactions': {'RP1': 0.0, 'RP2': 0.0, 'RP3': 0.0}, 'global': 0.0}, 'fba': {'reactions': {'RP1': {'fba_obj_biomass': 0.0, 'fba_obj_RP1_sink__restricted_biomass': 0.2944281521776105}, 'RP2': {'fba_obj_biomass': 0.0, 'fba_obj_RP1_sink__restricted_biomass': 0.2944281521776105}, 'RP3': {'fba_obj_biomass': 0.0, 'fba_obj_RP1_sink__restricted_biomass': 0.2944281521776105}}, 'global': {'fba_obj_biomass': 0.0, 'fba_obj_RP1_sink__restricted_biomass': 0.0}}, 'selenzyme': {'reactions': {'RP1': 0.899, 'RP2': 0.879, 'RP3': 0.0}, 'global': 1.778}, 'thermo': {'reactions': {'RP1': {'dfG_prime_m': 0.5660434479205154, 'dfG_uncert': 0.5398678866138138, 'dfG_prime_o': 0.5650043839954865}, 'RP2': {'dfG_prime_m': 0.5355170237318236, 'dfG_uncert': 0.5396242391768992, 'dfG_prime_o': 0.5386342155069103}, 'RP3': {'dfG_prime_m': 0.5603035481047605, 'dfG_uncert': 0.5400607446281782, 'dfG_prime_o': 0.5603035481047605}}, 'global': {'dfG_prime_m': 0.5603035481047605, 'dfG_uncert': 0.0, 'dfG_prime_o': 0.0}}}\n",
      "0.31985862900873\n"
     ]
    },
    {
     "name": "stderr",
     "output_type": "stream",
     "text": [
      "WARNING:root:Missing selenzyme values for reaction: RP2\n",
      "WARNING:root:Could not retreive flux value: obj_RP1_sink__restricted_biomass\n"
     ]
    },
    {
     "name": "stdout",
     "output_type": "stream",
     "text": [
      "{'rule_score': {'reactions': {'RP1': 0.0, 'RP2': 0.0, 'RP3': 0.0}, 'global': 0.0}, 'fba': {'reactions': {'RP1': {'fba_obj_biomass': 0.0, 'fba_obj_RP1_sink__restricted_biomass': 0.27479960869911096}, 'RP2': {'fba_obj_biomass': 0.0, 'fba_obj_RP1_sink__restricted_biomass': 0.27479960869911096}, 'RP3': {'fba_obj_biomass': 0.0, 'fba_obj_RP1_sink__restricted_biomass': 0.27479960869911096}}, 'global': {'fba_obj_biomass': 0.0, 'fba_obj_RP1_sink__restricted_biomass': 0.0}}, 'selenzyme': {'reactions': {'RP1': 0.899, 'RP2': 0.0, 'RP3': 0.86462}, 'global': 1.76362}, 'thermo': {'reactions': {'RP1': {'dfG_prime_m': 0.5660434479205154, 'dfG_uncert': 0.5398678866138138, 'dfG_prime_o': 0.5650043839954865}, 'RP2': {'dfG_prime_m': 0.5866044559365738, 'dfG_uncert': 0.5395284798361183, 'dfG_prime_o': 0.5866044559365738}, 'RP3': {'dfG_prime_m': 0.5141489937536774, 'dfG_uncert': 0.5399679698578291, 'dfG_prime_o': 0.5162271216037352}}, 'global': {'dfG_prime_m': 0.5141489937536774, 'dfG_uncert': 0.0, 'dfG_prime_o': 0.0}}}\n",
      "0.3148140828128065\n"
     ]
    }
   ],
   "source": [
    "rpToolServe.runGlobalScore_hdd(open('/Users/melchior/Downloads/Galaxy2222-[rpGlobalScore].tar', 'rb'),\n",
    "                                 'test_out.tar.xz',\n",
    "                                 1.0,\n",
    "                                 1.0,\n",
    "                                 1.0,\n",
    "                                 1.0,\n",
    "                                 5,\n",
    "                                 10,\n",
    "                                 8901.2,\n",
    "                                 -7570.2,\n",
    "                                 5.0,\n",
    "                                 0.0,\n",
    "                                 'rp_pathway',\n",
    "                                 'obj_RP1_sink__restricted_biomass',\n",
    "                                 'dfG_prime_m')"
   ]
  },
  {
   "cell_type": "code",
   "execution_count": null,
   "metadata": {},
   "outputs": [],
   "source": []
  },
  {
   "cell_type": "code",
   "execution_count": 3,
   "metadata": {},
   "outputs": [],
   "source": [
    "h = {'dfG_prime_m': {}, 'dfG_uncert': {}, 'dfG_prime_o': {}, 'path_id': None, 'step_id': None, 'sub_step_id': None, 'rule_score': None, 'smiles': None, 'inchi': None, 'inchikey': None, 'selenzyme': None, 'rule_id': None, 'rule_ori_reac': None, 'global_score': None, 'flux_value': {'units': 'mmol_per_gDW_per_hr', 'value': 0.7637845695834787}}"
   ]
  },
  {
   "cell_type": "code",
   "execution_count": 6,
   "metadata": {},
   "outputs": [
    {
     "data": {
      "text/plain": [
       "0.7637845695834787"
      ]
     },
     "execution_count": 6,
     "metadata": {},
     "output_type": "execute_result"
    }
   ],
   "source": [
    "h['flux_value']['value']"
   ]
  },
  {
   "cell_type": "code",
   "execution_count": null,
   "metadata": {},
   "outputs": [],
   "source": []
  },
  {
   "cell_type": "code",
   "execution_count": null,
   "metadata": {},
   "outputs": [],
   "source": []
  },
  {
   "cell_type": "code",
   "execution_count": 4,
   "metadata": {},
   "outputs": [],
   "source": [
    "g = {'rule_score': {'reactions': {'RP1': 0.0, 'RP2': 0.0, 'RP3': 0.0}, 'global': 0.0}, 'fba': {'reactions': {'RP1': {'fba_obj_biomass': 0.0, 'fba_obj_RP1_sink__restricted_biomass': 1.411643237152398e-06}, 'RP2': {'fba_obj_biomass': 0.0, 'fba_obj_RP1_sink__restricted_biomass': 1.411643237152398e-06}, 'RP3': {'fba_obj_biomass': 0.0, 'fba_obj_RP1_sink__restricted_biomass': 1.411643237152398e-06}}, 'global': {'fba_obj_biomass': 0.0, 'fba_obj_RP1_sink__restricted_biomass': 0.0}}, 'selenzyme': {'reactions': {'RP1': 0.899, 'RP2': 0.0, 'RP3': 0.81793}, 'global': 1.71693}, 'thermo': {'reactions': {'RP1': {'dfG_prime_m': 0.5660434479205154, 'dfG_uncert': 0.5398678866138138, 'dfG_prime_o': 0.5650043839954865}, 'RP2': {'dfG_prime_m': 0.5866044559365738, 'dfG_uncert': 0.5395284798361183, 'dfG_prime_o': 0.5866044559365738}, 'RP3': {'dfG_prime_m': 0.5126225003815702, 'dfG_uncert': 0.5399679698578291, 'dfG_prime_o': 0.5136615643065991}}, 'global': {'dfG_prime_m': 0.5126225003815702, 'dfG_uncert': 0.0, 'dfG_prime_o': 0.0}}}"
   ]
  },
  {
   "cell_type": "code",
   "execution_count": 7,
   "metadata": {},
   "outputs": [
    {
     "data": {
      "text/plain": [
       "{'dfG_prime_m': 0.5126225003815702, 'dfG_uncert': 0.0, 'dfG_prime_o': 0.0}"
      ]
     },
     "execution_count": 7,
     "metadata": {},
     "output_type": "execute_result"
    }
   ],
   "source": [
    "g['thermo']['global']"
   ]
  },
  {
   "cell_type": "code",
   "execution_count": null,
   "metadata": {},
   "outputs": [],
   "source": []
  },
  {
   "cell_type": "code",
   "execution_count": 1,
   "metadata": {},
   "outputs": [],
   "source": [
    "import rpSBML"
   ]
  },
  {
   "cell_type": "code",
   "execution_count": 2,
   "metadata": {},
   "outputs": [],
   "source": [
    "a = '/Users/melchior/Downloads/Galaxy1015-[rpGlobalScore]/rp_1_2.rpsbml.xml'"
   ]
  },
  {
   "cell_type": "code",
   "execution_count": 3,
   "metadata": {},
   "outputs": [],
   "source": [
    "rpsbml = rpSBML.rpSBML('test')\n",
    "rpsbml.readSBML(a)"
   ]
  },
  {
   "cell_type": "code",
   "execution_count": 4,
   "metadata": {},
   "outputs": [
    {
     "data": {
      "text/plain": [
       "<rpSBML.rpSBML at 0x11161ab38>"
      ]
     },
     "execution_count": 4,
     "metadata": {},
     "output_type": "execute_result"
    }
   ],
   "source": [
    "rpsbml"
   ]
  },
  {
   "cell_type": "code",
   "execution_count": 5,
   "metadata": {},
   "outputs": [],
   "source": [
    "groups = rpsbml.model.getPlugin('groups')\n",
    "fbc = rpsbml.model.getPlugin('fbc')\n",
    "rp_pathway = groups.getGroup('rp_pathway')"
   ]
  },
  {
   "cell_type": "code",
   "execution_count": 6,
   "metadata": {},
   "outputs": [
    {
     "data": {
      "text/plain": [
       "['RP1', 'RP2']"
      ]
     },
     "execution_count": 6,
     "metadata": {},
     "output_type": "execute_result"
    }
   ],
   "source": [
    "rpsbml.readRPpathwayIDs()"
   ]
  },
  {
   "cell_type": "code",
   "execution_count": 7,
   "metadata": {},
   "outputs": [],
   "source": [
    "members = rp_pathway.getListOfMembers()"
   ]
  },
  {
   "cell_type": "code",
   "execution_count": 9,
   "metadata": {},
   "outputs": [
    {
     "data": {
      "text/plain": [
       "<Member>"
      ]
     },
     "execution_count": 9,
     "metadata": {},
     "output_type": "execute_result"
    }
   ],
   "source": [
    "members[0]"
   ]
  },
  {
   "cell_type": "code",
   "execution_count": 13,
   "metadata": {},
   "outputs": [],
   "source": [
    "objs = fbc.getListOfObjectives()"
   ]
  },
  {
   "cell_type": "code",
   "execution_count": 14,
   "metadata": {},
   "outputs": [
    {
     "data": {
      "text/plain": [
       "<ListOfObjectives[3]>"
      ]
     },
     "execution_count": 14,
     "metadata": {},
     "output_type": "execute_result"
    }
   ],
   "source": [
    "objs"
   ]
  },
  {
   "cell_type": "code",
   "execution_count": 15,
   "metadata": {},
   "outputs": [],
   "source": [
    "brsynth_dict = rpsbml.readBRSYNTHAnnotation(objs[0].getAnnotation())"
   ]
  },
  {
   "cell_type": "code",
   "execution_count": 16,
   "metadata": {},
   "outputs": [
    {
     "data": {
      "text/plain": [
       "{'dfG_prime_m': {},\n",
       " 'dfG_uncert': {},\n",
       " 'dfG_prime_o': {},\n",
       " 'path_id': None,\n",
       " 'step_id': None,\n",
       " 'sub_step_id': None,\n",
       " 'rule_score': None,\n",
       " 'smiles': None,\n",
       " 'inchi': None,\n",
       " 'inchikey': None,\n",
       " 'selenzyme': None,\n",
       " 'rule_id': None,\n",
       " 'rule_ori_reac': None,\n",
       " 'global_score': None,\n",
       " 'flux_value': {'units': 'mmol_per_gDW_per_hr', 'value': 0.7637845695834804}}"
      ]
     },
     "execution_count": 16,
     "metadata": {},
     "output_type": "execute_result"
    }
   ],
   "source": [
    "brsynth_dict"
   ]
  },
  {
   "cell_type": "code",
   "execution_count": 17,
   "metadata": {},
   "outputs": [],
   "source": [
    "obj = objs[0]"
   ]
  },
  {
   "cell_type": "code",
   "execution_count": 19,
   "metadata": {},
   "outputs": [
    {
     "data": {
      "text/plain": [
       "[<ListOfFluxObjectives[1]>, <FluxObjective>]"
      ]
     },
     "execution_count": 19,
     "metadata": {},
     "output_type": "execute_result"
    }
   ],
   "source": [
    "obj.getListOfAllElements()"
   ]
  },
  {
   "cell_type": "code",
   "execution_count": 20,
   "metadata": {},
   "outputs": [
    {
     "data": {
      "text/plain": [
       "<ListOfFluxObjectives[1]>"
      ]
     },
     "execution_count": 20,
     "metadata": {},
     "output_type": "execute_result"
    }
   ],
   "source": [
    "obj.getListOfFluxObjectives()"
   ]
  },
  {
   "cell_type": "code",
   "execution_count": 21,
   "metadata": {},
   "outputs": [],
   "source": [
    "b = obj.getListOfFluxObjectives()[0]"
   ]
  },
  {
   "cell_type": "code",
   "execution_count": 22,
   "metadata": {},
   "outputs": [
    {
     "data": {
      "text/plain": [
       "<FluxObjective>"
      ]
     },
     "execution_count": 22,
     "metadata": {},
     "output_type": "execute_result"
    }
   ],
   "source": [
    "b"
   ]
  },
  {
   "cell_type": "code",
   "execution_count": 23,
   "metadata": {},
   "outputs": [
    {
     "data": {
      "text/plain": [
       "{'dfG_prime_m': {},\n",
       " 'dfG_uncert': {},\n",
       " 'dfG_prime_o': {},\n",
       " 'path_id': None,\n",
       " 'step_id': None,\n",
       " 'sub_step_id': None,\n",
       " 'rule_score': None,\n",
       " 'smiles': None,\n",
       " 'inchi': None,\n",
       " 'inchikey': None,\n",
       " 'selenzyme': None,\n",
       " 'rule_id': None,\n",
       " 'rule_ori_reac': None,\n",
       " 'global_score': None,\n",
       " 'flux_value': {'units': 'mmol_per_gDW_per_hr', 'value': 0.7637845695834804}}"
      ]
     },
     "execution_count": 23,
     "metadata": {},
     "output_type": "execute_result"
    }
   ],
   "source": [
    "rpsbml.readBRSYNTHAnnotation(b.getAnnotation())"
   ]
  },
  {
   "cell_type": "code",
   "execution_count": 24,
   "metadata": {},
   "outputs": [
    {
     "data": {
      "text/plain": [
       "'obj_biomass'"
      ]
     },
     "execution_count": 24,
     "metadata": {},
     "output_type": "execute_result"
    }
   ],
   "source": [
    "obj.getId()"
   ]
  },
  {
   "cell_type": "code",
   "execution_count": null,
   "metadata": {},
   "outputs": [],
   "source": []
  }
 ],
 "metadata": {
  "kernelspec": {
   "display_name": "Python 3",
   "language": "python",
   "name": "python3"
  },
  "language_info": {
   "codemirror_mode": {
    "name": "ipython",
    "version": 3
   },
   "file_extension": ".py",
   "mimetype": "text/x-python",
   "name": "python",
   "nbconvert_exporter": "python",
   "pygments_lexer": "ipython3",
   "version": "3.7.3"
  }
 },
 "nbformat": 4,
 "nbformat_minor": 4
}
